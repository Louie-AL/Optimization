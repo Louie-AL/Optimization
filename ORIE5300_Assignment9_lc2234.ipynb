{
  "nbformat": 4,
  "nbformat_minor": 0,
  "metadata": {
    "colab": {
      "provenance": []
    },
    "kernelspec": {
      "name": "python3",
      "display_name": "Python 3"
    },
    "language_info": {
      "name": "python"
    }
  },
  "cells": [
    {
      "cell_type": "markdown",
      "metadata": {
        "id": "WHe5saLVXS9D"
      },
      "source": [
        "# **ORIE5300  /  Assignment 9      /   lc2234**"
      ]
    },
    {
      "cell_type": "code",
      "source": [
        "# Click the \"Play\" button on the left to import packages.\n",
        "%pip install -i https://pypi.gurobi.com gurobipy;\n",
        "import gurobipy\n",
        "import cvxpy as cp\n",
        "import numpy as np\n",
        "import pandas as pd\n"
      ],
      "metadata": {
        "colab": {
          "base_uri": "https://localhost:8080/",
          "height": 0
        },
        "id": "eH_TcqQN84_c",
        "outputId": "c661b4a0-4f9d-4921-da8f-8feab296837d"
      },
      "execution_count": 1,
      "outputs": [
        {
          "output_type": "stream",
          "name": "stdout",
          "text": [
            "Looking in indexes: https://pypi.gurobi.com\n",
            "Collecting gurobipy\n",
            "  Downloading gurobipy-10.0.3-cp310-cp310-manylinux2014_x86_64.whl (12.7 MB)\n",
            "\u001b[2K     \u001b[90m━━━━━━━━━━━━━━━━━━━━━━━━━━━━━━━━━━━━━━━━\u001b[0m \u001b[32m12.7/12.7 MB\u001b[0m \u001b[31m40.9 MB/s\u001b[0m eta \u001b[36m0:00:00\u001b[0m\n",
            "\u001b[?25hInstalling collected packages: gurobipy\n",
            "Successfully installed gurobipy-10.0.3\n"
          ]
        }
      ]
    },
    {
      "cell_type": "markdown",
      "source": [
        "### Problem 1\n",
        "\n",
        "(c) Use CVXPY to solve the problem."
      ],
      "metadata": {
        "id": "pkBPLDT9U-d4"
      }
    },
    {
      "cell_type": "code",
      "source": [
        "x1 = cp.Variable( name='x1')\n",
        "x2 = cp.Variable( name='x2')\n",
        "\n",
        "\n",
        "obj_f = -4 * x1 + x2\n",
        "\n",
        "constraints =  []\n",
        "constraints += [   x1 ** 2 -   x2       <=  0]\n",
        "constraints += [               x2 - 5   <=  0]\n",
        "\n",
        "\n",
        "problem = cp.Problem(cp.Minimize(obj_f),constraints)\n",
        "\n",
        "problem.solve(solver=cp.GUROBI, verbose=False)\n",
        "print('objective %s' % problem.value)\n",
        "for variable in problem.variables():\n",
        "  print(\"%s = %s\" % (variable.name(), variable.value))\n",
        "\n"
      ],
      "metadata": {
        "colab": {
          "base_uri": "https://localhost:8080/",
          "height": 0
        },
        "id": "NIzuXq_aVoJt",
        "outputId": "9072c177-4728-4f19-9c32-13a69b68ad5b"
      },
      "execution_count": 2,
      "outputs": [
        {
          "output_type": "stream",
          "name": "stdout",
          "text": [
            "Restricted license - for non-production use only - expires 2024-10-28\n",
            "objective -3.999999857977236\n",
            "x1 = 1.9999501927467052\n",
            "x2 = 3.999800913009585\n"
          ]
        }
      ]
    },
    {
      "cell_type": "code",
      "source": [
        "from cvxpy.problems.objective import Objective\n",
        "\n",
        "#Supress future warnings related to pandas dataframe.append\n",
        "import warnings\n",
        "warnings.simplefilter(action='ignore', category=FutureWarning)\n",
        "\n",
        "x1 = cp.Variable( name='x1')\n",
        "x2 = cp.Variable( name='x2')\n",
        "\n",
        "# Create an empty DataFrame to store the iteration information\n",
        "columns = ['RHS_Constr_1', 'RHS_Constr_2',\n",
        "           'Optimal Value', 'x1*', 'x2*',\n",
        "           'u1*','u2*']\n",
        "df = pd.DataFrame(columns=columns)\n",
        "\n",
        "\n",
        "obj_f = -4 * x1 + x2\n",
        "\n",
        "previous_optimal_obj_f=0\n",
        "previous_u1 = 0\n",
        "previous_optimal_x1= 0\n",
        "\n",
        "for n in np.arange(-1.2,1.1,0.1):\n",
        "##Are the changes equal to both constraints?\n",
        "  a = n\n",
        "  b = n\n",
        "\n",
        "  constraints =  []\n",
        "  constraints += [   x1 ** 2 -   x2       <=  a]\n",
        "  constraints += [               x2 - 5   <=  b]\n",
        "\n",
        "\n",
        "  problem = cp.Problem(cp.Minimize(obj_f),constraints)\n",
        "\n",
        "  problem.solve(solver=cp.GUROBI, verbose=False)\n",
        "  # for variable in problem.variables():\n",
        "  #   print(\"%s = %s\" % (variable.name(), variable.value))\n",
        "  u1 = 2/x1.value\n",
        "  u2 = u1 - 1\n",
        "  df = df.append({'RHS_Constr_1': np.round(a,3),\n",
        "                  'RHS_Constr_2': np.round(b,3),\n",
        "                  'Optimal Value': np.round(obj_f.value,3),\n",
        "                  'x1*': np.round(x1.value,3),\n",
        "                  'x2*': np.round(x2.value,3),\n",
        "                  'u1*': np.round(u1,3),\n",
        "                  'u2*': np.round(u2,3),\n",
        "                  'Change in Obj F value': np.round(obj_f.value,3) - previous_optimal_obj_f,\n",
        "                  '-1 * epsilon * u1': -1 * previous_u1 * 0.1},\n",
        "                 ignore_index=True)\n",
        "\n",
        "  previous_optimal_x1 = np.round(x1.value,3)\n",
        "  previous_optimal_obj_f = np.round(obj_f.value,3)\n",
        "  previous_u1 = np.round(u1,3)\n",
        "\n",
        "df['-1 * epsilon * u1'] = df['-1 * epsilon * u1'].shift(1)\n",
        "df = df[2:]\n",
        "\n",
        "with pd.option_context('display.max_rows', None,\n",
        "                    'display.max_columns', None,\n",
        "                    'display.precision', 3,\n",
        "                    ):\n",
        "  print(df.to_string(index=False))\n",
        "\n"
      ],
      "metadata": {
        "id": "g6g4KL1FrRrc",
        "colab": {
          "base_uri": "https://localhost:8080/",
          "height": 0
        },
        "outputId": "47cc8ce8-4fc0-44e2-83d1-4ebd24480298"
      },
      "execution_count": 3,
      "outputs": [
        {
          "output_type": "stream",
          "name": "stdout",
          "text": [
            " RHS_Constr_1  RHS_Constr_2  Optimal Value   x1*   x2*   u1*    u2*  Change in Obj F value  -1 * epsilon * u1\n",
            "         -1.0          -1.0         -2.928 1.732 4.000 1.155  0.155                 -0.135             -0.124\n",
            "         -0.9          -0.9         -3.055 1.789 4.100 1.118  0.118                 -0.127             -0.120\n",
            "         -0.8          -0.8         -3.176 1.844 4.200 1.085  0.085                 -0.121             -0.116\n",
            "         -0.7          -0.7         -3.289 1.897 4.300 1.054  0.054                 -0.113             -0.112\n",
            "         -0.6          -0.6         -3.397 1.949 4.400 1.026  0.026                 -0.108             -0.108\n",
            "         -0.5          -0.5         -3.500 2.000 4.498 1.000  0.000                 -0.103             -0.105\n",
            "         -0.4          -0.4         -3.600 2.000 4.399 1.000  0.000                 -0.100             -0.103\n",
            "         -0.3          -0.3         -3.700 2.000 4.300 1.000  0.000                 -0.100             -0.100\n",
            "         -0.2          -0.2         -3.800 2.000 4.200 1.000 -0.000                 -0.100             -0.100\n",
            "         -0.1          -0.1         -3.900 2.000 4.100 1.000 -0.000                 -0.100             -0.100\n",
            "          0.0           0.0         -4.000 2.000 4.000 1.000  0.000                 -0.100             -0.100\n",
            "          0.1           0.1         -4.100 2.000 3.900 1.000 -0.000                 -0.100             -0.100\n",
            "          0.2           0.2         -4.200 2.000 3.800 1.000  0.000                 -0.100             -0.100\n",
            "          0.3           0.3         -4.300 2.000 3.699 1.000  0.000                 -0.100             -0.100\n",
            "          0.4           0.4         -4.400 2.000 3.599 1.000  0.000                 -0.100             -0.100\n",
            "          0.5           0.5         -4.500 2.000 3.502 1.000 -0.000                 -0.100             -0.100\n",
            "          0.6           0.6         -4.600 2.000 3.400 1.000 -0.000                 -0.100             -0.100\n",
            "          0.7           0.7         -4.700 2.000 3.300 1.000  0.000                 -0.100             -0.100\n",
            "          0.8           0.8         -4.800 2.000 3.200 1.000  0.000                 -0.100             -0.100\n",
            "          0.9           0.9         -4.900 2.000 3.100 1.000  0.000                 -0.100             -0.100\n",
            "          1.0           1.0         -5.000 2.000 3.000 1.000 -0.000                 -0.100             -0.100\n"
          ]
        }
      ]
    },
    {
      "cell_type": "markdown",
      "source": [
        "If we change the number in the RHS of the original problem by an $\\epsilon = 0.1$, at a time, on both constraints, then the optimal value of the objective function changes by approximately $−u_{1}\\epsilon = −0.1u_{1} $"
      ],
      "metadata": {
        "id": "veSdfLhG6ubI"
      }
    },
    {
      "cell_type": "markdown",
      "source": [
        "## Question 2\n",
        "\n",
        "### Part b"
      ],
      "metadata": {
        "id": "mFxLdOfXCGFT"
      }
    },
    {
      "cell_type": "code",
      "source": [
        "x1 = cp.Variable( name='x1')\n",
        "x2 = cp.Variable( name='x2')\n",
        "\n",
        "\n",
        "obj_f = x1 ** 2 + x2 ** 2\n",
        "\n",
        "constraints =  []\n",
        "constraints += [        - 2*x1      - 3*x2      + 13   <=  0]\n",
        "\n",
        "\n",
        "problem = cp.Problem(cp.Minimize(obj_f),constraints)\n",
        "\n",
        "problem.solve(solver=cp.GUROBI, verbose=False)\n",
        "print('objective %s' % problem.value)\n",
        "for variable in problem.variables():\n",
        "  print(\"%s = %s\" % (variable.name(), variable.value))\n",
        "\n"
      ],
      "metadata": {
        "id": "EQzCPJb3CJir",
        "colab": {
          "base_uri": "https://localhost:8080/",
          "height": 0
        },
        "outputId": "9d983564-4334-45f5-d8fb-e5b7afb66ecd"
      },
      "execution_count": 4,
      "outputs": [
        {
          "output_type": "stream",
          "name": "stdout",
          "text": [
            "objective 13.000000000086105\n",
            "x1 = 2.0000000000066236\n",
            "x2 = 3.000000000009935\n"
          ]
        }
      ]
    },
    {
      "cell_type": "markdown",
      "source": [
        "### Part c"
      ],
      "metadata": {
        "id": "5DLQTQH-CQWT"
      }
    },
    {
      "cell_type": "code",
      "source": [
        "x0 = cp.Variable( name='x0')\n",
        "x1 = cp.Variable( name='x1')\n",
        "x2 = cp.Variable( name='x2')\n",
        "\n",
        "\n",
        "obj_f = x0\n",
        "\n",
        "constraints =  []\n",
        "constraints += [   - x0 +   x1 ** 2 +   x2 ** 2        <=  0]\n",
        "constraints += [        - 2*x1      - 3*x2      + 13   <=  0]\n",
        "\n",
        "\n",
        "problem = cp.Problem(cp.Minimize(obj_f),constraints)\n",
        "\n",
        "problem.solve(solver=cp.GUROBI, verbose=False)\n",
        "print('objective %s' % problem.value)\n",
        "for variable in problem.variables():\n",
        "  print(\"%s = %s\" % (variable.name(), variable.value))\n",
        "\n"
      ],
      "metadata": {
        "id": "-GH1xb45BhDr",
        "colab": {
          "base_uri": "https://localhost:8080/",
          "height": 0
        },
        "outputId": "a895fec4-11a0-4f3b-a653-804065daa6ec"
      },
      "execution_count": 5,
      "outputs": [
        {
          "output_type": "stream",
          "name": "stdout",
          "text": [
            "objective 13.000000336015042\n",
            "x0 = 13.000000336015042\n",
            "x1 = 2.000414792673242\n",
            "x2 = 2.999723478720753\n"
          ]
        }
      ]
    },
    {
      "cell_type": "code",
      "source": [
        "u1 = cp.Variable(nonneg=True, name='u1')\n",
        "u2 = cp.Variable(nonneg=True, name='u2')\n",
        "\n",
        "obj_f = - 1*u2\n",
        "\n",
        "constraints = []\n",
        "constraints += [   u1 + u2 >= 1]\n",
        "constraints += [   u1 + u2 <= 3]\n",
        "constraints += [   u1 - u2 <= 1]\n",
        "constraints += [   u1 - u2 >= -1]\n",
        "\n",
        "problem = cp.Problem(cp.Maximize(obj_f),constraints)\n",
        "\n",
        "problem.solve(solver=cp.GUROBI, verbose=False)\n",
        "print('objective %s' % problem.value)\n",
        "for variable in problem.variables():\n",
        "  print(\"%s = %s\" % (variable.name(), variable.value))"
      ],
      "metadata": {
        "id": "R2ROCqHsBAz5",
        "colab": {
          "base_uri": "https://localhost:8080/",
          "height": 0
        },
        "outputId": "a6aa2628-3350-4cdf-afe7-aed99e5684d3"
      },
      "execution_count": 6,
      "outputs": [
        {
          "output_type": "stream",
          "name": "stdout",
          "text": [
            "objective -0.0\n",
            "u2 = 0.0\n",
            "u1 = 1.0\n"
          ]
        }
      ]
    },
    {
      "cell_type": "code",
      "source": [
        "!jupyter nbconvert --to html /content/ORIE5300_Assignment9_lc2234.ipynb"
      ],
      "metadata": {
        "id": "EG169DF92nl3",
        "colab": {
          "base_uri": "https://localhost:8080/",
          "height": 0
        },
        "outputId": "d49e3696-1569-42d1-8d02-fe37fa17fe7d"
      },
      "execution_count": 8,
      "outputs": [
        {
          "output_type": "stream",
          "name": "stdout",
          "text": [
            "[NbConvertApp] WARNING | pattern '/content/ORIE5300_Assignment9_lc2234.ipynb' matched no files\n",
            "This application is used to convert notebook files (*.ipynb)\n",
            "        to various other formats.\n",
            "\n",
            "        WARNING: THE COMMANDLINE INTERFACE MAY CHANGE IN FUTURE RELEASES.\n",
            "\n",
            "Options\n",
            "=======\n",
            "The options below are convenience aliases to configurable class-options,\n",
            "as listed in the \"Equivalent to\" description-line of the aliases.\n",
            "To see all configurable class-options for some <cmd>, use:\n",
            "    <cmd> --help-all\n",
            "\n",
            "--debug\n",
            "    set log level to logging.DEBUG (maximize logging output)\n",
            "    Equivalent to: [--Application.log_level=10]\n",
            "--show-config\n",
            "    Show the application's configuration (human-readable format)\n",
            "    Equivalent to: [--Application.show_config=True]\n",
            "--show-config-json\n",
            "    Show the application's configuration (json format)\n",
            "    Equivalent to: [--Application.show_config_json=True]\n",
            "--generate-config\n",
            "    generate default config file\n",
            "    Equivalent to: [--JupyterApp.generate_config=True]\n",
            "-y\n",
            "    Answer yes to any questions instead of prompting.\n",
            "    Equivalent to: [--JupyterApp.answer_yes=True]\n",
            "--execute\n",
            "    Execute the notebook prior to export.\n",
            "    Equivalent to: [--ExecutePreprocessor.enabled=True]\n",
            "--allow-errors\n",
            "    Continue notebook execution even if one of the cells throws an error and include the error message in the cell output (the default behaviour is to abort conversion). This flag is only relevant if '--execute' was specified, too.\n",
            "    Equivalent to: [--ExecutePreprocessor.allow_errors=True]\n",
            "--stdin\n",
            "    read a single notebook file from stdin. Write the resulting notebook with default basename 'notebook.*'\n",
            "    Equivalent to: [--NbConvertApp.from_stdin=True]\n",
            "--stdout\n",
            "    Write notebook output to stdout instead of files.\n",
            "    Equivalent to: [--NbConvertApp.writer_class=StdoutWriter]\n",
            "--inplace\n",
            "    Run nbconvert in place, overwriting the existing notebook (only\n",
            "            relevant when converting to notebook format)\n",
            "    Equivalent to: [--NbConvertApp.use_output_suffix=False --NbConvertApp.export_format=notebook --FilesWriter.build_directory=]\n",
            "--clear-output\n",
            "    Clear output of current file and save in place,\n",
            "            overwriting the existing notebook.\n",
            "    Equivalent to: [--NbConvertApp.use_output_suffix=False --NbConvertApp.export_format=notebook --FilesWriter.build_directory= --ClearOutputPreprocessor.enabled=True]\n",
            "--no-prompt\n",
            "    Exclude input and output prompts from converted document.\n",
            "    Equivalent to: [--TemplateExporter.exclude_input_prompt=True --TemplateExporter.exclude_output_prompt=True]\n",
            "--no-input\n",
            "    Exclude input cells and output prompts from converted document.\n",
            "            This mode is ideal for generating code-free reports.\n",
            "    Equivalent to: [--TemplateExporter.exclude_output_prompt=True --TemplateExporter.exclude_input=True --TemplateExporter.exclude_input_prompt=True]\n",
            "--allow-chromium-download\n",
            "    Whether to allow downloading chromium if no suitable version is found on the system.\n",
            "    Equivalent to: [--WebPDFExporter.allow_chromium_download=True]\n",
            "--disable-chromium-sandbox\n",
            "    Disable chromium security sandbox when converting to PDF..\n",
            "    Equivalent to: [--WebPDFExporter.disable_sandbox=True]\n",
            "--show-input\n",
            "    Shows code input. This flag is only useful for dejavu users.\n",
            "    Equivalent to: [--TemplateExporter.exclude_input=False]\n",
            "--embed-images\n",
            "    Embed the images as base64 dataurls in the output. This flag is only useful for the HTML/WebPDF/Slides exports.\n",
            "    Equivalent to: [--HTMLExporter.embed_images=True]\n",
            "--sanitize-html\n",
            "    Whether the HTML in Markdown cells and cell outputs should be sanitized..\n",
            "    Equivalent to: [--HTMLExporter.sanitize_html=True]\n",
            "--log-level=<Enum>\n",
            "    Set the log level by value or name.\n",
            "    Choices: any of [0, 10, 20, 30, 40, 50, 'DEBUG', 'INFO', 'WARN', 'ERROR', 'CRITICAL']\n",
            "    Default: 30\n",
            "    Equivalent to: [--Application.log_level]\n",
            "--config=<Unicode>\n",
            "    Full path of a config file.\n",
            "    Default: ''\n",
            "    Equivalent to: [--JupyterApp.config_file]\n",
            "--to=<Unicode>\n",
            "    The export format to be used, either one of the built-in formats\n",
            "            ['asciidoc', 'custom', 'html', 'latex', 'markdown', 'notebook', 'pdf', 'python', 'rst', 'script', 'slides', 'webpdf']\n",
            "            or a dotted object name that represents the import path for an\n",
            "            ``Exporter`` class\n",
            "    Default: ''\n",
            "    Equivalent to: [--NbConvertApp.export_format]\n",
            "--template=<Unicode>\n",
            "    Name of the template to use\n",
            "    Default: ''\n",
            "    Equivalent to: [--TemplateExporter.template_name]\n",
            "--template-file=<Unicode>\n",
            "    Name of the template file to use\n",
            "    Default: None\n",
            "    Equivalent to: [--TemplateExporter.template_file]\n",
            "--theme=<Unicode>\n",
            "    Template specific theme(e.g. the name of a JupyterLab CSS theme distributed\n",
            "    as prebuilt extension for the lab template)\n",
            "    Default: 'light'\n",
            "    Equivalent to: [--HTMLExporter.theme]\n",
            "--sanitize_html=<Bool>\n",
            "    Whether the HTML in Markdown cells and cell outputs should be sanitized.This\n",
            "    should be set to True by nbviewer or similar tools.\n",
            "    Default: False\n",
            "    Equivalent to: [--HTMLExporter.sanitize_html]\n",
            "--writer=<DottedObjectName>\n",
            "    Writer class used to write the\n",
            "                                        results of the conversion\n",
            "    Default: 'FilesWriter'\n",
            "    Equivalent to: [--NbConvertApp.writer_class]\n",
            "--post=<DottedOrNone>\n",
            "    PostProcessor class used to write the\n",
            "                                        results of the conversion\n",
            "    Default: ''\n",
            "    Equivalent to: [--NbConvertApp.postprocessor_class]\n",
            "--output=<Unicode>\n",
            "    overwrite base name use for output files.\n",
            "                can only be used when converting one notebook at a time.\n",
            "    Default: ''\n",
            "    Equivalent to: [--NbConvertApp.output_base]\n",
            "--output-dir=<Unicode>\n",
            "    Directory to write output(s) to. Defaults\n",
            "                                  to output to the directory of each notebook. To recover\n",
            "                                  previous default behaviour (outputting to the current\n",
            "                                  working directory) use . as the flag value.\n",
            "    Default: ''\n",
            "    Equivalent to: [--FilesWriter.build_directory]\n",
            "--reveal-prefix=<Unicode>\n",
            "    The URL prefix for reveal.js (version 3.x).\n",
            "            This defaults to the reveal CDN, but can be any url pointing to a copy\n",
            "            of reveal.js.\n",
            "            For speaker notes to work, this must be a relative path to a local\n",
            "            copy of reveal.js: e.g., \"reveal.js\".\n",
            "            If a relative path is given, it must be a subdirectory of the\n",
            "            current directory (from which the server is run).\n",
            "            See the usage documentation\n",
            "            (https://nbconvert.readthedocs.io/en/latest/usage.html#reveal-js-html-slideshow)\n",
            "            for more details.\n",
            "    Default: ''\n",
            "    Equivalent to: [--SlidesExporter.reveal_url_prefix]\n",
            "--nbformat=<Enum>\n",
            "    The nbformat version to write.\n",
            "            Use this to downgrade notebooks.\n",
            "    Choices: any of [1, 2, 3, 4]\n",
            "    Default: 4\n",
            "    Equivalent to: [--NotebookExporter.nbformat_version]\n",
            "\n",
            "Examples\n",
            "--------\n",
            "\n",
            "    The simplest way to use nbconvert is\n",
            "\n",
            "            > jupyter nbconvert mynotebook.ipynb --to html\n",
            "\n",
            "            Options include ['asciidoc', 'custom', 'html', 'latex', 'markdown', 'notebook', 'pdf', 'python', 'rst', 'script', 'slides', 'webpdf'].\n",
            "\n",
            "            > jupyter nbconvert --to latex mynotebook.ipynb\n",
            "\n",
            "            Both HTML and LaTeX support multiple output templates. LaTeX includes\n",
            "            'base', 'article' and 'report'.  HTML includes 'basic', 'lab' and\n",
            "            'classic'. You can specify the flavor of the format used.\n",
            "\n",
            "            > jupyter nbconvert --to html --template lab mynotebook.ipynb\n",
            "\n",
            "            You can also pipe the output to stdout, rather than a file\n",
            "\n",
            "            > jupyter nbconvert mynotebook.ipynb --stdout\n",
            "\n",
            "            PDF is generated via latex\n",
            "\n",
            "            > jupyter nbconvert mynotebook.ipynb --to pdf\n",
            "\n",
            "            You can get (and serve) a Reveal.js-powered slideshow\n",
            "\n",
            "            > jupyter nbconvert myslides.ipynb --to slides --post serve\n",
            "\n",
            "            Multiple notebooks can be given at the command line in a couple of\n",
            "            different ways:\n",
            "\n",
            "            > jupyter nbconvert notebook*.ipynb\n",
            "            > jupyter nbconvert notebook1.ipynb notebook2.ipynb\n",
            "\n",
            "            or you can specify the notebooks list in a config file, containing::\n",
            "\n",
            "                c.NbConvertApp.notebooks = [\"my_notebook.ipynb\"]\n",
            "\n",
            "            > jupyter nbconvert --config mycfg.py\n",
            "\n",
            "To see all available configurables, use `--help-all`.\n",
            "\n"
          ]
        }
      ]
    }
  ]
}